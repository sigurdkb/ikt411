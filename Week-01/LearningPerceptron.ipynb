{
 "cells": [
  {
   "cell_type": "markdown",
   "metadata": {},
   "source": [
    "# Learning Perceptron"
   ]
  },
  {
   "cell_type": "markdown",
   "metadata": {},
   "source": [
    "## Initialization"
   ]
  },
  {
   "cell_type": "code",
   "execution_count": 28,
   "metadata": {},
   "outputs": [],
   "source": [
    "#Random dataset\n",
    "import random\n",
    "rocks = [ [random.uniform(-5,1),random.uniform(-5,1),0] for i in range(100)]\n",
    "not_rocks = [ [random.uniform(-1,5),random.uniform(-1,5),1] for i in range(100)]\n",
    "\n",
    "training_dataset = rocks[:int(len(rocks)/2)] + not_rocks[:int(len(not_rocks)/2)]\n",
    "validation_dataset = rocks[int(len(rocks)/2):] + not_rocks[int(len(not_rocks)/2):]\n"
   ]
  },
  {
   "cell_type": "markdown",
   "metadata": {},
   "source": [
    "## Plot dataset"
   ]
  },
  {
   "cell_type": "code",
   "execution_count": 29,
   "metadata": {},
   "outputs": [
    {
     "data": {
      "image/png": "[encoded data removed]",
      "text/plain": [
       "<Figure size 432x288 with 1 Axes>"
      ]
     },
     "metadata": {
      "needs_background": "light"
     },
     "output_type": "display_data"
    }
   ],
   "source": [
    "import matplotlib\n",
    "import matplotlib.pyplot as plt\n",
    "import numpy as np\n",
    "\n",
    "np_rocks = np.array(rocks)\n",
    "np_not_rocks = np.array(not_rocks)\n",
    "\n",
    "\n",
    "fig, ax = plt.subplots()\n",
    "ax.plot(np_rocks[:,0],np_rocks[:,1],'ro')\n",
    "ax.plot(np_not_rocks[:,0],np_not_rocks[:,1],'go')\n",
    "\n",
    "ax.grid()\n",
    "plt.show()"
   ]
  },
  {
   "cell_type": "markdown",
   "metadata": {},
   "source": [
    "## Perceptron"
   ]
  },
  {
   "cell_type": "code",
   "execution_count": 36,
   "metadata": {},
   "outputs": [],
   "source": [
    "def predict(row, weights):\n",
    "    activation = weights[0]*1\n",
    "    for i in range(len(row)-1):\n",
    "        activation += weights[i+1]*row[i]\n",
    "    return 1.0 if activation >= 0.0 else 0.0\n",
    "\n",
    "def train_weights(train,learningrate,epochs):\n",
    "    weights = [random.uniform(-1,1) for i in range (len(train[0]))]\n",
    "    for epoch in range(epochs):\n",
    "        sum_error = 0.0\n",
    "        for row in train:\n",
    "            prediction = predict(row, weights)\n",
    "            error = row[-1] - prediction\n",
    "            sum_error += error**2\n",
    "            weights[0] = weights[0] + learningrate*error\n",
    "            for i in range(len(row)-1):\n",
    "                weights[i+1] = weights[i+1] + learningrate*error*row[i]\n",
    "        print(\"Epoch: \"+str(epoch) + \" Learning rate: \" + str(learningrate) + \" Error: \" + str(sum_error))\n",
    "    return weights\n"
   ]
  },
  {
   "cell_type": "markdown",
   "metadata": {},
   "source": [
    "## Training"
   ]
  },
  {
   "cell_type": "code",
   "execution_count": 37,
   "metadata": {},
   "outputs": [
    {
     "name": "stdout",
     "output_type": "stream",
     "text": [
      "Epoch: 0 Learning rate: 0.5 Error: 2.0\n",
      "Epoch: 1 Learning rate: 0.5 Error: 3.0\n",
      "Epoch: 2 Learning rate: 0.5 Error: 4.0\n",
      "Epoch: 3 Learning rate: 0.5 Error: 3.0\n",
      "Epoch: 4 Learning rate: 0.5 Error: 2.0\n",
      "Epoch: 5 Learning rate: 0.5 Error: 2.0\n",
      "Epoch: 6 Learning rate: 0.5 Error: 2.0\n",
      "Epoch: 7 Learning rate: 0.5 Error: 3.0\n",
      "Epoch: 8 Learning rate: 0.5 Error: 4.0\n",
      "Epoch: 9 Learning rate: 0.5 Error: 3.0\n",
      "[0.1115616192604103, 1.1825052176024184, 1.1057605554904528]\n"
     ]
    }
   ],
   "source": [
    "learningrate = 0.5\n",
    "epochs = 10\n",
    "\n",
    "train_weights = train_weights(training_dataset, learningrate, epochs)\n",
    "print (train_weights)\n"
   ]
  },
  {
   "cell_type": "markdown",
   "metadata": {},
   "source": [
    "## Validation"
   ]
  },
  {
   "cell_type": "code",
   "execution_count": 38,
   "metadata": {},
   "outputs": [
    {
     "name": "stdout",
     "output_type": "stream",
     "text": [
      "Accurary 0.93\n"
     ]
    }
   ],
   "source": [
    "accuracy = 0.0\n",
    "\n",
    "for row in validation_dataset:\n",
    "    prediction = predict(row, train_weights)\n",
    "    if(prediction == row[-1]):\n",
    "        accuracy += 1\n",
    "accuracy = accuracy/len(validation_dataset)\n",
    "print(\"Accurary\",accuracy)\n"
   ]
  },
  {
   "cell_type": "code",
   "execution_count": null,
   "metadata": {},
   "outputs": [],
   "source": []
  }
 ],
 "metadata": {
  "kernelspec": {
   "display_name": "Python 3",
   "language": "python",
   "name": "python3"
  },
  "language_info": {
   "codemirror_mode": {
    "name": "ipython",
    "version": 3
   },
   "file_extension": ".py",
   "mimetype": "text/x-python",
   "name": "python",
   "nbconvert_exporter": "python",
   "pygments_lexer": "ipython3",
   "version": "3.6.6"
  }
 },
 "nbformat": 4,
 "nbformat_minor": 2
}
